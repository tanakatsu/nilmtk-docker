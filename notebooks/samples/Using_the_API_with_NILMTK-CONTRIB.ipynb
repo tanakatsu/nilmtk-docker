{
 "cells": [
  {
   "cell_type": "code",
   "execution_count": null,
   "metadata": {},
   "outputs": [],
   "source": [
    "# https://github.com/nilmtk/nilmtk-contrib/blob/master/sample_notebooks/Using%20the%20%20API%20with%20NILMTK-CONTRIB.ipynb"
   ]
  },
  {
   "cell_type": "code",
   "execution_count": 1,
   "metadata": {},
   "outputs": [],
   "source": [
    "import warnings\n",
    "warnings.filterwarnings(\"ignore\")"
   ]
  },
  {
   "cell_type": "code",
   "execution_count": 2,
   "metadata": {},
   "outputs": [],
   "source": [
    "from nilmtk.api import API"
   ]
  },
  {
   "cell_type": "code",
   "execution_count": null,
   "metadata": {},
   "outputs": [],
   "source": []
  },
  {
   "cell_type": "code",
   "execution_count": 3,
   "metadata": {},
   "outputs": [],
   "source": [
    "from nilmtk.disaggregate import Mean"
   ]
  },
  {
   "cell_type": "code",
   "execution_count": 4,
   "metadata": {},
   "outputs": [
    {
     "name": "stderr",
     "output_type": "stream",
     "text": [
      "2024-04-21 11:03:46.411357: W tensorflow/stream_executor/platform/default/dso_loader.cc:60] Could not load dynamic library 'libcudart.so.11.0'; dlerror: libcudart.so.11.0: cannot open shared object file: No such file or directory\n",
      "2024-04-21 11:03:46.411399: I tensorflow/stream_executor/cuda/cudart_stub.cc:29] Ignore above cudart dlerror if you do not have a GPU set up on your machine.\n",
      "Using TensorFlow backend.\n",
      "2024-04-21 11:03:47.902777: I tensorflow/compiler/jit/xla_cpu_device.cc:41] Not creating XLA devices, tf_xla_enable_xla_devices not set\n",
      "2024-04-21 11:03:47.902996: W tensorflow/stream_executor/platform/default/dso_loader.cc:60] Could not load dynamic library 'libcuda.so.1'; dlerror: libcuda.so.1: cannot open shared object file: No such file or directory\n",
      "2024-04-21 11:03:47.903017: W tensorflow/stream_executor/cuda/cuda_driver.cc:326] failed call to cuInit: UNKNOWN ERROR (303)\n",
      "2024-04-21 11:03:47.903042: I tensorflow/stream_executor/cuda/cuda_diagnostics.cc:156] kernel driver does not appear to be running on this host (0b5a7bef257b): /proc/driver/nvidia/version does not exist\n"
     ]
    }
   ],
   "source": [
    "from nilmtk_contrib.disaggregate import DAE,Seq2Point, Seq2Seq, RNN, WindowGRU"
   ]
  },
  {
   "cell_type": "code",
   "execution_count": 5,
   "metadata": {},
   "outputs": [],
   "source": [
    "redd = {\n",
    "  'power': {\n",
    "    'mains': ['apparent','active'],\n",
    "    'appliance': ['apparent','active']\n",
    "  },\n",
    "  'sample_rate': 60,\n",
    "\n",
    "  'appliances': ['fridge'],\n",
    "  'methods': {\n",
    "    \n",
    "      'WindowGRU':WindowGRU({'n_epochs':50,'batch_size':32}),\n",
    "      'RNN':RNN({'n_epochs':50,'batch_size':32}),\n",
    "      'DAE':DAE({'n_epochs':50,'batch_size':32}),\n",
    "      'Seq2Point':Seq2Point({'n_epochs':50,'batch_size':32}),\n",
    "      'Seq2Seq':Seq2Seq({'n_epochs':50,'batch_size':32}),\n",
    "\n",
    "      'Mean': Mean({}),\n",
    "          \n",
    "  },\n",
    "   'train': {    \n",
    "    'datasets': {\n",
    "            #'Dataport': {\n",
    "            #    'path': 'C:/Users/Hp/Desktop/nilmtk-contrib/dataport.hdf5',\n",
    "\t\t\t#\t'buildings': {\n",
    "\t\t\t#\t10: {\n",
    "\t\t\t#\t\t'start_time': '2015-04-04',\n",
    "\t\t\t#\t\t'end_time': '2015-04-05'\n",
    "\t\t\t#\t},\n",
    "#                 56: {\n",
    "#             'start_time': '2015-01-28',\n",
    "#             'end_time': '2015-01-30'\n",
    "#           },\n",
    "\t\t\t#\t}\n",
    "\t\t\t#\t                \n",
    "\t\t\t#}\n",
    "            'redd': {\n",
    "                 'path': '../../dataset/redd/redd.h5',    \n",
    "                 'buildings': {\n",
    "                     1: {\n",
    "                        'start_time': '2011-04-27',\n",
    "                        'end_time': '2011-04-29'                     \n",
    "                     }\n",
    "                 }\n",
    "            }\n",
    "\t\t\t}\n",
    "\t},\n",
    "\t'test': {\n",
    "\t'datasets': {\n",
    "\t#\t'Datport': {\n",
    "\t#\t\t'path': 'C:/Users/Hp/Desktop/nilmtk-contrib/dataport.hdf5',\n",
    "\t#\t\t'buildings': {\n",
    "\t#\t\t\t10: {\n",
    "\t#\t\t\t\t'start_time': '2015-04-05',\n",
    "\t#\t\t\t\t'end_time': '2015-04-06'\n",
    "\t#\t\t\t},\n",
    "\t#\t\t}\n",
    "\t#}\n",
    "         'redd': {\n",
    "             'path': '../../dataset/redd/redd.h5',   \n",
    "             'buildings': {\n",
    "                 1: {\n",
    "                         'start_time': '2011-04-30',\n",
    "                        'end_time': '2011-05-01'                    \n",
    "                 }\n",
    "             }\n",
    "         }\n",
    "},\n",
    "        'metrics':['mae']\n",
    "}\n",
    "}"
   ]
  },
  {
   "cell_type": "code",
   "execution_count": 6,
   "metadata": {},
   "outputs": [
    {
     "name": "stdout",
     "output_type": "stream",
     "text": [
      "Joint Testing for all algorithms\n",
      "Loading data for  redd  dataset\n",
      "Loading data for meter ElecMeterID(instance=2, building=1, dataset='REDD')     \n",
      "Done loading data all meters for this chunk.\n",
      "Dropping missing values\n",
      "Generating predictions for : WindowGRU\n",
      "Generating predictions for : RNN\n",
      "Generating predictions for : DAE\n",
      "Generating predictions for : Seq2Point\n",
      "Generating predictions for : Seq2Seq\n",
      "Generating predictions for : Mean\n",
      "............  mae  ..............\n",
      "        WindowGRU        RNN        DAE  Seq2Point    Seq2Seq       Mean\n",
      "fridge  32.550678  56.666451  76.288712  49.601753  40.193222  66.962143\n"
     ]
    }
   ],
   "source": [
    "api_res = API(redd)"
   ]
  },
  {
   "cell_type": "code",
   "execution_count": 7,
   "metadata": {},
   "outputs": [
    {
     "data": {
      "text/plain": [
       "[        WindowGRU        RNN        DAE  Seq2Point    Seq2Seq       Mean\n",
       " fridge  32.550678  56.666451  76.288712  49.601753  40.193222  66.962143]"
      ]
     },
     "execution_count": 7,
     "metadata": {},
     "output_type": "execute_result"
    }
   ],
   "source": [
    "api_res.errors"
   ]
  },
  {
   "cell_type": "code",
   "execution_count": 8,
   "metadata": {},
   "outputs": [
    {
     "data": {
      "text/plain": [
       "['redd_1_mae']"
      ]
     },
     "execution_count": 8,
     "metadata": {},
     "output_type": "execute_result"
    }
   ],
   "source": [
    "api_res.errors_keys"
   ]
  },
  {
   "cell_type": "code",
   "execution_count": null,
   "metadata": {},
   "outputs": [],
   "source": []
  },
  {
   "cell_type": "code",
   "execution_count": null,
   "metadata": {},
   "outputs": [],
   "source": []
  },
  {
   "cell_type": "code",
   "execution_count": null,
   "metadata": {},
   "outputs": [],
   "source": []
  },
  {
   "cell_type": "code",
   "execution_count": null,
   "metadata": {},
   "outputs": [],
   "source": []
  },
  {
   "cell_type": "code",
   "execution_count": null,
   "metadata": {},
   "outputs": [],
   "source": []
  }
 ],
 "metadata": {
  "kernelspec": {
   "display_name": "Python3.8 (nilmtk-env)",
   "language": "python",
   "name": "nilmtk-env"
  },
  "language_info": {
   "codemirror_mode": {
    "name": "ipython",
    "version": 3
   },
   "file_extension": ".py",
   "mimetype": "text/x-python",
   "name": "python",
   "nbconvert_exporter": "python",
   "pygments_lexer": "ipython3",
   "version": "3.8.19"
  }
 },
 "nbformat": 4,
 "nbformat_minor": 2
}
